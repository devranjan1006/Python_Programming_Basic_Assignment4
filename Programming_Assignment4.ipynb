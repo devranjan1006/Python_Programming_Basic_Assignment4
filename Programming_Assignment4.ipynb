{
 "cells": [
  {
   "cell_type": "markdown",
   "metadata": {},
   "source": [
    "# Python Programming Assignment 4"
   ]
  },
  {
   "cell_type": "markdown",
   "metadata": {},
   "source": [
    "1.Write a Python Program to Find the Factorial of a Number?\n"
   ]
  },
  {
   "cell_type": "code",
   "execution_count": 7,
   "metadata": {},
   "outputs": [
    {
     "name": "stdout",
     "output_type": "stream",
     "text": [
      "Enter the number: 5\n",
      "The factorial of 5 is 120\n"
     ]
    }
   ],
   "source": [
    "n = int(input('Enter the number: '))\n",
    "fact = 1\n",
    "t = 0\n",
    "while n!=0:\n",
    "    fact = fact * n\n",
    "    n = n-1\n",
    "    t = t+1\n",
    "print('The factorial of {} is {}'.format(t,fact))\n",
    "    "
   ]
  },
  {
   "cell_type": "markdown",
   "metadata": {},
   "source": [
    "2.Write a Python Program to Display the multiplication Table?\n"
   ]
  },
  {
   "cell_type": "code",
   "execution_count": 19,
   "metadata": {},
   "outputs": [
    {
     "name": "stdout",
     "output_type": "stream",
     "text": [
      "Enter the number: 6\n",
      "The multiplication table of 6 is as follows:\n",
      "6 X 1 = 6\n",
      "6 X 2 = 12\n",
      "6 X 3 = 18\n",
      "6 X 4 = 24\n",
      "6 X 5 = 30\n",
      "6 X 6 = 36\n",
      "6 X 7 = 42\n",
      "6 X 8 = 48\n",
      "6 X 9 = 54\n",
      "6 X 10 = 60\n"
     ]
    }
   ],
   "source": [
    "n = int(input('Enter the number: '))\n",
    "\n",
    "print('The multiplication table of {} is as follows:'.format(n))\n",
    "for i in range(1,11):\n",
    "    print('{} X {} = {}'.format(n,i,n*i))"
   ]
  },
  {
   "cell_type": "markdown",
   "metadata": {},
   "source": [
    "3.Write a Python Program to Print the Fibonacci sequence?\n"
   ]
  },
  {
   "cell_type": "code",
   "execution_count": 22,
   "metadata": {},
   "outputs": [
    {
     "name": "stdout",
     "output_type": "stream",
     "text": [
      "Enter the number of terms: 9\n",
      "The first 9 terms of fibonacci sequence is [1, 1, 2, 3, 5, 8, 13, 21, 34]\n"
     ]
    }
   ],
   "source": [
    "n = int(input('Enter the number of terms: '))\n",
    "fib = [1,1]\n",
    "for i in range(n-2):\n",
    "    fib.append(fib[i]+fib[i+1])\n",
    "    \n",
    "print('The first {} terms of fibonacci sequence is {}'.format(n,fib))\n",
    "    \n",
    "    "
   ]
  },
  {
   "cell_type": "markdown",
   "metadata": {},
   "source": [
    "4.Write a Python Program to Check Armstrong Number?\n"
   ]
  },
  {
   "cell_type": "code",
   "execution_count": 47,
   "metadata": {},
   "outputs": [
    {
     "name": "stdout",
     "output_type": "stream",
     "text": [
      "Enter the number: 153\n",
      "153 is an armstrong number\n"
     ]
    }
   ],
   "source": [
    "import copy\n",
    "n = int(input('Enter the number: '))\n",
    "t = copy.deepcopy(n)\n",
    "split = []\n",
    "add = 0\n",
    "dig = 0\n",
    "while t>= 1:\n",
    "    split.append(int(t%10))\n",
    "    t = t/10\n",
    "    dig = dig+1\n",
    "    \n",
    "split.reverse()\n",
    "for i in split:\n",
    "    add = add + (i**dig)\n",
    "    \n",
    "if add == n:\n",
    "    print(str(n)+' is an armstrong number')\n",
    "else:\n",
    "    print(str(n)+' is not an armstrong number')\n"
   ]
  },
  {
   "cell_type": "markdown",
   "metadata": {},
   "source": [
    "5.Write a Python Program to Find Armstrong Number in an Interval?\n"
   ]
  },
  {
   "cell_type": "code",
   "execution_count": 51,
   "metadata": {},
   "outputs": [
    {
     "name": "stdout",
     "output_type": "stream",
     "text": [
      "Enter the upper limit of the interval: 500\n",
      "Enter the lower limit of the interval: 250\n",
      "The armstrong numbers in the interval are:\n",
      "[370, 371, 407]\n"
     ]
    }
   ],
   "source": [
    "u = int(input('Enter the upper limit of the interval: '))\n",
    "l = int(input('Enter the lower limit of the interval: '))\n",
    "lst = list(range(l,u+1))\n",
    "arm = []\n",
    "for i in lst:\n",
    "    n = i\n",
    "    t = copy.deepcopy(n)\n",
    "    split = []\n",
    "    add = 0\n",
    "    dig = 0\n",
    "    while t>= 1:\n",
    "        split.append(int(t%10))\n",
    "        t = t/10\n",
    "        dig = dig+1\n",
    "\n",
    "    split.reverse()\n",
    "    for i in split:\n",
    "        add = add + (i**dig)\n",
    "\n",
    "    if add == n:\n",
    "        arm.append(n)\n",
    "    else:\n",
    "        pass\n",
    "\n",
    "if arm!=[]:\n",
    "    print('The armstrong numbers in the interval are:')\n",
    "    print(arm)\n",
    "else:\n",
    "    print('There are no armstrong number in the interval')"
   ]
  },
  {
   "cell_type": "markdown",
   "metadata": {},
   "source": [
    "6.Write a Python Program to Find the Sum of Natural Numbers?\n"
   ]
  },
  {
   "cell_type": "code",
   "execution_count": 25,
   "metadata": {},
   "outputs": [
    {
     "name": "stdout",
     "output_type": "stream",
     "text": [
      "Enter the number of terms of which the sum is required: 4\n",
      "The Sum of first 4 natural numbers is 10\n"
     ]
    }
   ],
   "source": [
    "n = int(input('Enter the number of terms of which the sum is required: '))\n",
    "add = sum(list(range(1,n+1)))\n",
    "print('The Sum of first {} natural numbers is {}'.format(n,add))\n"
   ]
  },
  {
   "cell_type": "code",
   "execution_count": null,
   "metadata": {},
   "outputs": [],
   "source": []
  }
 ],
 "metadata": {
  "kernelspec": {
   "display_name": "Python 3",
   "language": "python",
   "name": "python3"
  },
  "language_info": {
   "codemirror_mode": {
    "name": "ipython",
    "version": 3
   },
   "file_extension": ".py",
   "mimetype": "text/x-python",
   "name": "python",
   "nbconvert_exporter": "python",
   "pygments_lexer": "ipython3",
   "version": "3.8.5"
  }
 },
 "nbformat": 4,
 "nbformat_minor": 4
}
